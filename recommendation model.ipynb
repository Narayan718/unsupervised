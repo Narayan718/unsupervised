{
 "cells": [
  {
   "cell_type": "markdown",
   "id": "a23ca14c",
   "metadata": {},
   "source": [
    "# **Project Title - Book Recommendation System**"
   ]
  },
  {
   "cell_type": "markdown",
   "id": "ad3a5294",
   "metadata": {},
   "source": [
    "**Problem Statement**\n",
    "\n",
    "During the last few decades, with the rise of Youtube, Amazon, Netflix, and many other such\n",
    "web services, recommender systems have taken more and more place in our lives. From\n",
    "e-commerce (suggest to buyers articles that could interest them) to online advertisement\n",
    "(suggest to users the right contents, matching their preferences), recommender systems are\n",
    "today unavoidable in our daily online journeys.\n",
    "\n",
    "In a very general way, recommender systems are algorithms aimed at suggesting relevant\n",
    "items to users (items being movies to watch, text to read, products to buy, or anything else\n",
    "depending on industries).\n",
    "Recommender systems are really critical in some industries as they can generate a huge\n",
    "amount of income when they are efficient or also be a way to stand out significantly from\n",
    "competitors. The main objective is to create a book recommendation system for users."
   ]
  },
  {
   "cell_type": "markdown",
   "id": "df503abf",
   "metadata": {},
   "source": [
    "**Content**\n",
    "\n",
    "The Book-Crossing dataset comprises 3 files.\n",
    "\n",
    "* Users\n",
    "\n",
    "Contains the users. Note that user IDs (User-ID) have been anonymized and map to\n",
    "integers. Demographic data is provided (Location, Age) if available. Otherwise, these\n",
    "fields contain NULL values.\n",
    "\n",
    "* Books\n",
    "\n",
    "Books are identified by their respective ISBN. Invalid ISBNs have already been removed\n",
    "from the dataset. Moreover, some content-based information is given (Book-Title,\n",
    "Book-Author, Year-Of-Publication, Publisher), obtained from Amazon Web\n",
    "Services. Note that in the case of several authors, only the first is provided. URLs linking\n",
    "to cover images are also given, appearing in three different flavors (Image-URL-S,\n",
    "Image-URL-M, Image-URL-L), i.e., small, medium, large. These URLs point to the Amazon website.\n",
    "\n",
    "* Ratings\n",
    "\n",
    "Contains the book rating information. Ratings (Book-Rating) are either explicit,\n",
    "expressed on a scale from 1-10 (higher values denoting higher appreciation), or implicit,\n",
    "expressed by 0."
   ]
  },
  {
   "cell_type": "markdown",
   "id": "6ccf25f7",
   "metadata": {},
   "source": [
    "**Importing Libraries**"
   ]
  },
  {
   "cell_type": "code",
   "execution_count": 1,
   "id": "91a947ba",
   "metadata": {},
   "outputs": [],
   "source": [
    "#importing libraries required for EDA\n",
    "import string\n",
    "import numpy as np\n",
    "import pandas as pd\n",
    "import seaborn as sns\n",
    "import warnings\n",
    "warnings.filterwarnings('ignore')\n",
    "import matplotlib.pyplot as plt\n",
    "import missingno as msno\n",
    "from datetime import date, datetime\n",
    "from nltk.corpus import stopwords"
   ]
  },
  {
   "cell_type": "markdown",
   "id": "719e8188",
   "metadata": {},
   "source": [
    "# **User Dataset**"
   ]
  },
  {
   "cell_type": "code",
   "execution_count": 2,
   "id": "2d333a85",
   "metadata": {},
   "outputs": [
    {
     "data": {
      "text/html": [
       "<div>\n",
       "<style scoped>\n",
       "    .dataframe tbody tr th:only-of-type {\n",
       "        vertical-align: middle;\n",
       "    }\n",
       "\n",
       "    .dataframe tbody tr th {\n",
       "        vertical-align: top;\n",
       "    }\n",
       "\n",
       "    .dataframe thead th {\n",
       "        text-align: right;\n",
       "    }\n",
       "</style>\n",
       "<table border=\"1\" class=\"dataframe\">\n",
       "  <thead>\n",
       "    <tr style=\"text-align: right;\">\n",
       "      <th></th>\n",
       "      <th>User-ID</th>\n",
       "      <th>Location</th>\n",
       "      <th>Age</th>\n",
       "    </tr>\n",
       "  </thead>\n",
       "  <tbody>\n",
       "    <tr>\n",
       "      <th>0</th>\n",
       "      <td>1</td>\n",
       "      <td>nyc, new york, usa</td>\n",
       "      <td>NaN</td>\n",
       "    </tr>\n",
       "    <tr>\n",
       "      <th>1</th>\n",
       "      <td>2</td>\n",
       "      <td>stockton, california, usa</td>\n",
       "      <td>18.0</td>\n",
       "    </tr>\n",
       "    <tr>\n",
       "      <th>2</th>\n",
       "      <td>3</td>\n",
       "      <td>moscow, yukon territory, russia</td>\n",
       "      <td>NaN</td>\n",
       "    </tr>\n",
       "    <tr>\n",
       "      <th>3</th>\n",
       "      <td>4</td>\n",
       "      <td>porto, v.n.gaia, portugal</td>\n",
       "      <td>17.0</td>\n",
       "    </tr>\n",
       "    <tr>\n",
       "      <th>4</th>\n",
       "      <td>5</td>\n",
       "      <td>farnborough, hants, united kingdom</td>\n",
       "      <td>NaN</td>\n",
       "    </tr>\n",
       "  </tbody>\n",
       "</table>\n",
       "</div>"
      ],
      "text/plain": [
       "   User-ID                            Location   Age\n",
       "0        1                  nyc, new york, usa   NaN\n",
       "1        2           stockton, california, usa  18.0\n",
       "2        3     moscow, yukon territory, russia   NaN\n",
       "3        4           porto, v.n.gaia, portugal  17.0\n",
       "4        5  farnborough, hants, united kingdom   NaN"
      ]
     },
     "execution_count": 2,
     "metadata": {},
     "output_type": "execute_result"
    }
   ],
   "source": [
    "#loading user dataset\n",
    "user_df = pd.read_csv('Users.csv')\n",
    "#first five records of user data\n",
    "user_df.head()"
   ]
  },
  {
   "cell_type": "code",
   "execution_count": 3,
   "id": "6cc32f0a",
   "metadata": {},
   "outputs": [
    {
     "data": {
      "text/plain": [
       "(278858, 3)"
      ]
     },
     "execution_count": 3,
     "metadata": {},
     "output_type": "execute_result"
    }
   ],
   "source": [
    "#size of the user dataset\n",
    "user_df.shape"
   ]
  },
  {
   "cell_type": "markdown",
   "id": "3350e024",
   "metadata": {},
   "source": [
    "**Data Cleaning**"
   ]
  },
  {
   "cell_type": "code",
   "execution_count": 4,
   "id": "db1a4c40",
   "metadata": {},
   "outputs": [
    {
     "data": {
      "image/png": "[encoded data removed]",
      "text/plain": [
       "<Figure size 1800x720 with 3 Axes>"
      ]
     },
     "metadata": {
      "needs_background": "light"
     },
     "output_type": "display_data"
    }
   ],
   "source": [
    "#checking for null values\n",
    "msno.bar(user_df, color='green')\n",
    "plt.title('Checking for NaN values', size=16)\n",
    "plt.xlabel('Columns', size=14)\n",
    "plt.show()"
   ]
  },
  {
   "cell_type": "code",
   "execution_count": 5,
   "id": "5e2c9779",
   "metadata": {},
   "outputs": [
    {
     "data": {
      "text/plain": [
       "User-ID          0\n",
       "Location         0\n",
       "Age         110762\n",
       "dtype: int64"
      ]
     },
     "execution_count": 5,
     "metadata": {},
     "output_type": "execute_result"
    }
   ],
   "source": [
    "#number of null values present in the datset\n",
    "user_df.isnull().sum()"
   ]
  },
  {
   "cell_type": "code",
   "execution_count": 6,
   "id": "324518b0",
   "metadata": {},
   "outputs": [],
   "source": [
    "#filling the nan values with 0\n",
    "user_df['Age'].fillna(user_df['Age'].mean(), inplace=True)"
   ]
  },
  {
   "cell_type": "code",
   "execution_count": 7,
   "id": "fa9e33db",
   "metadata": {},
   "outputs": [
    {
     "data": {
      "image/png": "[encoded data removed]",
      "text/plain": [
       "<Figure size 864x360 with 2 Axes>"
      ]
     },
     "metadata": {
      "needs_background": "light"
     },
     "output_type": "display_data"
    }
   ],
   "source": [
    "#heatmap of data frame showing null values\n",
    "plt.figure(figsize=(12, 5))\n",
    "sns.heatmap(user_df.isnull(), yticklabels=False)\n",
    "plt.title('Heatmap of NaN values', size=16)\n",
    "plt.xlabel('Columns', size=14)\n",
    "plt.show()"
   ]
  },
  {
   "cell_type": "code",
   "execution_count": 8,
   "id": "95f41473",
   "metadata": {},
   "outputs": [
    {
     "data": {
      "text/plain": [
       "User-ID     278858\n",
       "Location     57339\n",
       "Age            166\n",
       "dtype: int64"
      ]
     },
     "execution_count": 8,
     "metadata": {},
     "output_type": "execute_result"
    }
   ],
   "source": [
    "#number of unique values \n",
    "user_df.nunique()"
   ]
  },
  {
   "cell_type": "markdown",
   "id": "58f6bd7a",
   "metadata": {},
   "source": [
    "**Data Visualizartion**"
   ]
  },
  {
   "cell_type": "markdown",
   "id": "d6cffc98",
   "metadata": {},
   "source": [
    "**Analysis on Location Feature**"
   ]
  },
  {
   "cell_type": "code",
   "execution_count": 9,
   "id": "f216d610",
   "metadata": {},
   "outputs": [],
   "source": [
    "#analysis of location feature\n",
    "#dictionary of location\n",
    "location_dict = {}\n",
    "\n",
    "#extracting the words\n",
    "for loc in user_df['Location']:\n",
    "    for name in loc.split(', '):\n",
    "        if name in location_dict:\n",
    "            location_dict[name] = location_dict[name]+1\n",
    "        else:\n",
    "            location_dict[name] = 1"
   ]
  },
  {
   "cell_type": "code",
   "execution_count": 10,
   "id": "f25e1094",
   "metadata": {},
   "outputs": [
    {
     "data": {
      "text/html": [
       "<div>\n",
       "<style scoped>\n",
       "    .dataframe tbody tr th:only-of-type {\n",
       "        vertical-align: middle;\n",
       "    }\n",
       "\n",
       "    .dataframe tbody tr th {\n",
       "        vertical-align: top;\n",
       "    }\n",
       "\n",
       "    .dataframe thead th {\n",
       "        text-align: right;\n",
       "    }\n",
       "</style>\n",
       "<table border=\"1\" class=\"dataframe\">\n",
       "  <thead>\n",
       "    <tr style=\"text-align: right;\">\n",
       "      <th></th>\n",
       "      <th>Location</th>\n",
       "      <th>Count</th>\n",
       "    </tr>\n",
       "  </thead>\n",
       "  <tbody>\n",
       "    <tr>\n",
       "      <th>2</th>\n",
       "      <td>usa</td>\n",
       "      <td>139737</td>\n",
       "    </tr>\n",
       "    <tr>\n",
       "      <th>19</th>\n",
       "      <td>canada</td>\n",
       "      <td>21668</td>\n",
       "    </tr>\n",
       "    <tr>\n",
       "      <th>4</th>\n",
       "      <td>california</td>\n",
       "      <td>19896</td>\n",
       "    </tr>\n",
       "    <tr>\n",
       "      <th>13</th>\n",
       "      <td>united kingdom</td>\n",
       "      <td>18592</td>\n",
       "    </tr>\n",
       "    <tr>\n",
       "      <th>48</th>\n",
       "      <td>germany</td>\n",
       "      <td>17088</td>\n",
       "    </tr>\n",
       "  </tbody>\n",
       "</table>\n",
       "</div>"
      ],
      "text/plain": [
       "          Location   Count\n",
       "2              usa  139737\n",
       "19          canada   21668\n",
       "4       california   19896\n",
       "13  united kingdom   18592\n",
       "48         germany   17088"
      ]
     },
     "execution_count": 10,
     "metadata": {},
     "output_type": "execute_result"
    }
   ],
   "source": [
    "#dataframe of location and their counts\n",
    "location_df = pd.DataFrame(location_dict.items(), columns=['Location', 'Count']).sort_values('Count', ascending=False)\n",
    "#frequent locations\n",
    "location_df.head()"
   ]
  },
  {
   "cell_type": "code",
   "execution_count": 11,
   "id": "7944792f",
   "metadata": {},
   "outputs": [
    {
     "data": {
      "image/png": "[encoded data removed]",
      "text/plain": [
       "<Figure size 864x360 with 1 Axes>"
      ]
     },
     "metadata": {
      "needs_background": "light"
     },
     "output_type": "display_data"
    }
   ],
   "source": [
    "#plotting of Loacations of users\n",
    "plt.figure(figsize=(12, 5))\n",
    "sns.barplot(x=location_df['Location'][:10], y=location_df['Count'][:10])\n",
    "plt.title('Loactions with high number of users', size=16)\n",
    "plt.xlabel('Locations', size=14)\n",
    "plt.ylabel('Count', size=14)\n",
    "plt.show()"
   ]
  },
  {
   "cell_type": "code",
   "execution_count": 12,
   "id": "01831f27",
   "metadata": {},
   "outputs": [
    {
     "data": {
      "image/png": "[encoded data removed]",
      "text/plain": [
       "<Figure size 864x360 with 1 Axes>"
      ]
     },
     "metadata": {
      "needs_background": "light"
     },
     "output_type": "display_data"
    }
   ],
   "source": [
    "#plotting of Loacations of users\n",
    "plt.figure(figsize=(12, 5))\n",
    "sns.barplot(x=location_df['Location'][-10:], y=location_df['Count'][-10:])\n",
    "plt.title('Loactions with high number of users', size=16)\n",
    "plt.xlabel('Locations', size=14)\n",
    "plt.ylabel('Count', size=14)\n",
    "plt.show()"
   ]
  },
  {
   "cell_type": "markdown",
   "id": "3903ceb9",
   "metadata": {},
   "source": [
    "**Analysis of Age**"
   ]
  },
  {
   "cell_type": "code",
   "execution_count": 13,
   "id": "1cff9d42",
   "metadata": {},
   "outputs": [
    {
     "data": {
      "image/png": "[encoded data removed]",
      "text/plain": [
       "<Figure size 1080x504 with 1 Axes>"
      ]
     },
     "metadata": {
      "needs_background": "light"
     },
     "output_type": "display_data"
    }
   ],
   "source": [
    "#plotting the time type data\n",
    "plt.figure(figsize=(15, 7))\n",
    "sns.countplot(user_df['Age'])\n",
    "plt.title('Age and their value counts', size=16)\n",
    "plt.xlabel('Age', size=14)\n",
    "plt.ylabel('Count', size=14)\n",
    "plt.show()"
   ]
  },
  {
   "cell_type": "markdown",
   "id": "f11858c1",
   "metadata": {},
   "source": [
    "# **Books Dataset**"
   ]
  },
  {
   "cell_type": "code",
   "execution_count": 14,
   "id": "c6a0e369",
   "metadata": {},
   "outputs": [
    {
     "data": {
      "text/html": [
       "<div>\n",
       "<style scoped>\n",
       "    .dataframe tbody tr th:only-of-type {\n",
       "        vertical-align: middle;\n",
       "    }\n",
       "\n",
       "    .dataframe tbody tr th {\n",
       "        vertical-align: top;\n",
       "    }\n",
       "\n",
       "    .dataframe thead th {\n",
       "        text-align: right;\n",
       "    }\n",
       "</style>\n",
       "<table border=\"1\" class=\"dataframe\">\n",
       "  <thead>\n",
       "    <tr style=\"text-align: right;\">\n",
       "      <th></th>\n",
       "      <th>ISBN</th>\n",
       "      <th>Book-Title</th>\n",
       "      <th>Book-Author</th>\n",
       "      <th>Year-Of-Publication</th>\n",
       "      <th>Publisher</th>\n",
       "      <th>Image-URL-S</th>\n",
       "      <th>Image-URL-M</th>\n",
       "      <th>Image-URL-L</th>\n",
       "    </tr>\n",
       "  </thead>\n",
       "  <tbody>\n",
       "    <tr>\n",
       "      <th>0</th>\n",
       "      <td>0195153448</td>\n",
       "      <td>Classical Mythology</td>\n",
       "      <td>Mark P. O. Morford</td>\n",
       "      <td>2002</td>\n",
       "      <td>Oxford University Press</td>\n",
       "      <td>http://images.amazon.com/images/P/0195153448.0...</td>\n",
       "      <td>http://images.amazon.com/images/P/0195153448.0...</td>\n",
       "      <td>http://images.amazon.com/images/P/0195153448.0...</td>\n",
       "    </tr>\n",
       "    <tr>\n",
       "      <th>1</th>\n",
       "      <td>0002005018</td>\n",
       "      <td>Clara Callan</td>\n",
       "      <td>Richard Bruce Wright</td>\n",
       "      <td>2001</td>\n",
       "      <td>HarperFlamingo Canada</td>\n",
       "      <td>http://images.amazon.com/images/P/0002005018.0...</td>\n",
       "      <td>http://images.amazon.com/images/P/0002005018.0...</td>\n",
       "      <td>http://images.amazon.com/images/P/0002005018.0...</td>\n",
       "    </tr>\n",
       "    <tr>\n",
       "      <th>2</th>\n",
       "      <td>0060973129</td>\n",
       "      <td>Decision in Normandy</td>\n",
       "      <td>Carlo D'Este</td>\n",
       "      <td>1991</td>\n",
       "      <td>HarperPerennial</td>\n",
       "      <td>http://images.amazon.com/images/P/0060973129.0...</td>\n",
       "      <td>http://images.amazon.com/images/P/0060973129.0...</td>\n",
       "      <td>http://images.amazon.com/images/P/0060973129.0...</td>\n",
       "    </tr>\n",
       "    <tr>\n",
       "      <th>3</th>\n",
       "      <td>0374157065</td>\n",
       "      <td>Flu: The Story of the Great Influenza Pandemic...</td>\n",
       "      <td>Gina Bari Kolata</td>\n",
       "      <td>1999</td>\n",
       "      <td>Farrar Straus Giroux</td>\n",
       "      <td>http://images.amazon.com/images/P/0374157065.0...</td>\n",
       "      <td>http://images.amazon.com/images/P/0374157065.0...</td>\n",
       "      <td>http://images.amazon.com/images/P/0374157065.0...</td>\n",
       "    </tr>\n",
       "    <tr>\n",
       "      <th>4</th>\n",
       "      <td>0393045218</td>\n",
       "      <td>The Mummies of Urumchi</td>\n",
       "      <td>E. J. W. Barber</td>\n",
       "      <td>1999</td>\n",
       "      <td>W. W. Norton &amp;amp; Company</td>\n",
       "      <td>http://images.amazon.com/images/P/0393045218.0...</td>\n",
       "      <td>http://images.amazon.com/images/P/0393045218.0...</td>\n",
       "      <td>http://images.amazon.com/images/P/0393045218.0...</td>\n",
       "    </tr>\n",
       "  </tbody>\n",
       "</table>\n",
       "</div>"
      ],
      "text/plain": [
       "         ISBN                                         Book-Title  \\\n",
       "0  0195153448                                Classical Mythology   \n",
       "1  0002005018                                       Clara Callan   \n",
       "2  0060973129                               Decision in Normandy   \n",
       "3  0374157065  Flu: The Story of the Great Influenza Pandemic...   \n",
       "4  0393045218                             The Mummies of Urumchi   \n",
       "\n",
       "            Book-Author Year-Of-Publication                   Publisher  \\\n",
       "0    Mark P. O. Morford                2002     Oxford University Press   \n",
       "1  Richard Bruce Wright                2001       HarperFlamingo Canada   \n",
       "2          Carlo D'Este                1991             HarperPerennial   \n",
       "3      Gina Bari Kolata                1999        Farrar Straus Giroux   \n",
       "4       E. J. W. Barber                1999  W. W. Norton &amp; Company   \n",
       "\n",
       "                                         Image-URL-S  \\\n",
       "0  http://images.amazon.com/images/P/0195153448.0...   \n",
       "1  http://images.amazon.com/images/P/0002005018.0...   \n",
       "2  http://images.amazon.com/images/P/0060973129.0...   \n",
       "3  http://images.amazon.com/images/P/0374157065.0...   \n",
       "4  http://images.amazon.com/images/P/0393045218.0...   \n",
       "\n",
       "                                         Image-URL-M  \\\n",
       "0  http://images.amazon.com/images/P/0195153448.0...   \n",
       "1  http://images.amazon.com/images/P/0002005018.0...   \n",
       "2  http://images.amazon.com/images/P/0060973129.0...   \n",
       "3  http://images.amazon.com/images/P/0374157065.0...   \n",
       "4  http://images.amazon.com/images/P/0393045218.0...   \n",
       "\n",
       "                                         Image-URL-L  \n",
       "0  http://images.amazon.com/images/P/0195153448.0...  \n",
       "1  http://images.amazon.com/images/P/0002005018.0...  \n",
       "2  http://images.amazon.com/images/P/0060973129.0...  \n",
       "3  http://images.amazon.com/images/P/0374157065.0...  \n",
       "4  http://images.amazon.com/images/P/0393045218.0...  "
      ]
     },
     "execution_count": 14,
     "metadata": {},
     "output_type": "execute_result"
    }
   ],
   "source": [
    "#loading book dataset\n",
    "book_df = pd.read_csv('Books.csv')\n",
    "#first 5 records of the data\n",
    "book_df.head()"
   ]
  },
  {
   "cell_type": "code",
   "execution_count": 15,
   "id": "07f74522",
   "metadata": {},
   "outputs": [
    {
     "data": {
      "text/plain": [
       "(271360, 8)"
      ]
     },
     "execution_count": 15,
     "metadata": {},
     "output_type": "execute_result"
    }
   ],
   "source": [
    "#size of the book dataset\n",
    "book_df.shape"
   ]
  },
  {
   "cell_type": "code",
   "execution_count": 16,
   "id": "5f7d0cd5",
   "metadata": {},
   "outputs": [
    {
     "name": "stdout",
     "output_type": "stream",
     "text": [
      "<class 'pandas.core.frame.DataFrame'>\n",
      "RangeIndex: 271360 entries, 0 to 271359\n",
      "Data columns (total 8 columns):\n",
      " #   Column               Non-Null Count   Dtype \n",
      "---  ------               --------------   ----- \n",
      " 0   ISBN                 271360 non-null  object\n",
      " 1   Book-Title           271360 non-null  object\n",
      " 2   Book-Author          271359 non-null  object\n",
      " 3   Year-Of-Publication  271360 non-null  object\n",
      " 4   Publisher            271358 non-null  object\n",
      " 5   Image-URL-S          271360 non-null  object\n",
      " 6   Image-URL-M          271360 non-null  object\n",
      " 7   Image-URL-L          271357 non-null  object\n",
      "dtypes: object(8)\n",
      "memory usage: 16.6+ MB\n"
     ]
    }
   ],
   "source": [
    "#showing the datatypes of features\n",
    "book_df.info()"
   ]
  },
  {
   "cell_type": "code",
   "execution_count": 17,
   "id": "ef75e7d8",
   "metadata": {},
   "outputs": [],
   "source": [
    "#removing the improper type of data\n",
    "book_df = book_df[~book_df['Year-Of-Publication'].isin(['DK Publishing Inc', 'Gallimard'])]\n",
    "#converting the datatype\n",
    "book_df['Year-Of-Publication'] = book_df['Year-Of-Publication'].astype(int)"
   ]
  },
  {
   "cell_type": "markdown",
   "id": "221c12b2",
   "metadata": {},
   "source": [
    "**Data Cleaning**"
   ]
  },
  {
   "cell_type": "code",
   "execution_count": 18,
   "id": "daa5a7f9",
   "metadata": {},
   "outputs": [
    {
     "data": {
      "image/png": "[encoded data removed]",
      "text/plain": [
       "<Figure size 1800x720 with 3 Axes>"
      ]
     },
     "metadata": {
      "needs_background": "light"
     },
     "output_type": "display_data"
    }
   ],
   "source": [
    "#checking for null values\n",
    "msno.bar(book_df, color='black')\n",
    "plt.title('Checking for NaN values', size=16)\n",
    "plt.xlabel('Columns', size=14)\n",
    "plt.show()"
   ]
  },
  {
   "cell_type": "code",
   "execution_count": 19,
   "id": "78798076",
   "metadata": {},
   "outputs": [],
   "source": [
    "#dropping the nan values\n",
    "book_df.dropna(inplace=True)"
   ]
  },
  {
   "cell_type": "code",
   "execution_count": 20,
   "id": "cd250b2f",
   "metadata": {},
   "outputs": [
    {
     "data": {
      "text/plain": [
       "(271354, 8)"
      ]
     },
     "execution_count": 20,
     "metadata": {},
     "output_type": "execute_result"
    }
   ],
   "source": [
    "#size of the dataset after cleaning of null values\n",
    "book_df.shape"
   ]
  },
  {
   "cell_type": "code",
   "execution_count": 21,
   "id": "01105f3f",
   "metadata": {},
   "outputs": [
    {
     "data": {
      "text/plain": [
       "ISBN                   0\n",
       "Book-Title             0\n",
       "Book-Author            0\n",
       "Year-Of-Publication    0\n",
       "Publisher              0\n",
       "Image-URL-S            0\n",
       "Image-URL-M            0\n",
       "Image-URL-L            0\n",
       "dtype: int64"
      ]
     },
     "execution_count": 21,
     "metadata": {},
     "output_type": "execute_result"
    }
   ],
   "source": [
    "#number of null values present in the datset after dropping nan values\n",
    "book_df.isnull().sum()"
   ]
  },
  {
   "cell_type": "code",
   "execution_count": 22,
   "id": "a0a0d6e1",
   "metadata": {},
   "outputs": [
    {
     "data": {
      "image/png": "[encoded data removed]",
      "text/plain": [
       "<Figure size 864x360 with 2 Axes>"
      ]
     },
     "metadata": {
      "needs_background": "light"
     },
     "output_type": "display_data"
    }
   ],
   "source": [
    "#heatmap of data frame showing null values\n",
    "plt.figure(figsize=(12, 5))\n",
    "sns.heatmap(book_df.isnull(), yticklabels=False)\n",
    "plt.title('Heatmap of NaN values', size=16)\n",
    "plt.xlabel('Columns', size=14)\n",
    "plt.show()"
   ]
  },
  {
   "cell_type": "markdown",
   "id": "05fa50c4",
   "metadata": {},
   "source": [
    "**Data Visualizartion**"
   ]
  },
  {
   "cell_type": "code",
   "execution_count": 23,
   "id": "45d7089c",
   "metadata": {},
   "outputs": [
    {
     "data": {
      "text/plain": [
       "ISBN                   271354\n",
       "Book-Title             242130\n",
       "Book-Author            102020\n",
       "Year-Of-Publication       116\n",
       "Publisher               16803\n",
       "Image-URL-S            271038\n",
       "Image-URL-M            271038\n",
       "Image-URL-L            271038\n",
       "dtype: int64"
      ]
     },
     "execution_count": 23,
     "metadata": {},
     "output_type": "execute_result"
    }
   ],
   "source": [
    "#number of unique values \n",
    "book_df.nunique()"
   ]
  },
  {
   "cell_type": "code",
   "execution_count": 24,
   "id": "3f2b7b35",
   "metadata": {},
   "outputs": [
    {
     "data": {
      "image/png": "[encoded data removed]",
      "text/plain": [
       "<Figure size 1080x504 with 1 Axes>"
      ]
     },
     "metadata": {
      "needs_background": "light"
     },
     "output_type": "display_data"
    }
   ],
   "source": [
    "#plotting the Age type data\n",
    "plt.figure(figsize=(15, 7))\n",
    "sns.countplot(book_df['Year-Of-Publication'])\n",
    "plt.title('Age and their value counts', size=16)\n",
    "plt.xlabel('Age', size=14)\n",
    "plt.ylabel('Count', size=14)\n",
    "plt.show()"
   ]
  },
  {
   "cell_type": "code",
   "execution_count": 25,
   "id": "f64d80e9",
   "metadata": {},
   "outputs": [],
   "source": [
    "#dropping unwanted columns\n",
    "del(book_df['Image-URL-S'])\n",
    "del(book_df['Image-URL-M'])\n",
    "del(book_df['Image-URL-L'])"
   ]
  },
  {
   "cell_type": "markdown",
   "id": "00c864d7",
   "metadata": {},
   "source": [
    "# **Ratings Dataset**"
   ]
  },
  {
   "cell_type": "code",
   "execution_count": 26,
   "id": "1ed9bf5f",
   "metadata": {},
   "outputs": [
    {
     "data": {
      "text/html": [
       "<div>\n",
       "<style scoped>\n",
       "    .dataframe tbody tr th:only-of-type {\n",
       "        vertical-align: middle;\n",
       "    }\n",
       "\n",
       "    .dataframe tbody tr th {\n",
       "        vertical-align: top;\n",
       "    }\n",
       "\n",
       "    .dataframe thead th {\n",
       "        text-align: right;\n",
       "    }\n",
       "</style>\n",
       "<table border=\"1\" class=\"dataframe\">\n",
       "  <thead>\n",
       "    <tr style=\"text-align: right;\">\n",
       "      <th></th>\n",
       "      <th>User-ID</th>\n",
       "      <th>ISBN</th>\n",
       "      <th>Book-Rating</th>\n",
       "    </tr>\n",
       "  </thead>\n",
       "  <tbody>\n",
       "    <tr>\n",
       "      <th>0</th>\n",
       "      <td>276725</td>\n",
       "      <td>034545104X</td>\n",
       "      <td>0</td>\n",
       "    </tr>\n",
       "    <tr>\n",
       "      <th>1</th>\n",
       "      <td>276726</td>\n",
       "      <td>0155061224</td>\n",
       "      <td>5</td>\n",
       "    </tr>\n",
       "    <tr>\n",
       "      <th>2</th>\n",
       "      <td>276727</td>\n",
       "      <td>0446520802</td>\n",
       "      <td>0</td>\n",
       "    </tr>\n",
       "    <tr>\n",
       "      <th>3</th>\n",
       "      <td>276729</td>\n",
       "      <td>052165615X</td>\n",
       "      <td>3</td>\n",
       "    </tr>\n",
       "    <tr>\n",
       "      <th>4</th>\n",
       "      <td>276729</td>\n",
       "      <td>0521795028</td>\n",
       "      <td>6</td>\n",
       "    </tr>\n",
       "  </tbody>\n",
       "</table>\n",
       "</div>"
      ],
      "text/plain": [
       "   User-ID        ISBN  Book-Rating\n",
       "0   276725  034545104X            0\n",
       "1   276726  0155061224            5\n",
       "2   276727  0446520802            0\n",
       "3   276729  052165615X            3\n",
       "4   276729  0521795028            6"
      ]
     },
     "execution_count": 26,
     "metadata": {},
     "output_type": "execute_result"
    }
   ],
   "source": [
    "#loading ratings dataset\n",
    "ratings_df = pd.read_csv('Ratings.csv')\n",
    "#first 5 records of the dataset\n",
    "ratings_df.head()"
   ]
  },
  {
   "cell_type": "code",
   "execution_count": 27,
   "id": "2b8dd693",
   "metadata": {},
   "outputs": [
    {
     "data": {
      "text/plain": [
       "(1149780, 3)"
      ]
     },
     "execution_count": 27,
     "metadata": {},
     "output_type": "execute_result"
    }
   ],
   "source": [
    "#size of the ratings dataset\n",
    "ratings_df.shape"
   ]
  },
  {
   "cell_type": "markdown",
   "id": "95e2c1d0",
   "metadata": {},
   "source": [
    "**Data Cleaning**"
   ]
  },
  {
   "cell_type": "code",
   "execution_count": 28,
   "id": "566f6455",
   "metadata": {},
   "outputs": [
    {
     "data": {
      "image/png": "[encoded data removed]",
      "text/plain": [
       "<Figure size 1800x720 with 3 Axes>"
      ]
     },
     "metadata": {
      "needs_background": "light"
     },
     "output_type": "display_data"
    }
   ],
   "source": [
    "#checking for null values\n",
    "msno.bar(ratings_df)\n",
    "plt.title('Checking for NaN values', size=16)\n",
    "plt.xlabel('Columns', size=14)\n",
    "plt.show()"
   ]
  },
  {
   "cell_type": "code",
   "execution_count": 29,
   "id": "a9f5f8b6",
   "metadata": {},
   "outputs": [
    {
     "data": {
      "text/plain": [
       "User-ID        0\n",
       "ISBN           0\n",
       "Book-Rating    0\n",
       "dtype: int64"
      ]
     },
     "execution_count": 29,
     "metadata": {},
     "output_type": "execute_result"
    }
   ],
   "source": [
    "ratings_df.isnull().sum()"
   ]
  },
  {
   "cell_type": "markdown",
   "id": "6e90ffd6",
   "metadata": {},
   "source": [
    "**Data Visualization**"
   ]
  },
  {
   "cell_type": "code",
   "execution_count": 30,
   "id": "35fa9943",
   "metadata": {},
   "outputs": [
    {
     "data": {
      "text/plain": [
       "User-ID        105283\n",
       "ISBN           340556\n",
       "Book-Rating        11\n",
       "dtype: int64"
      ]
     },
     "execution_count": 30,
     "metadata": {},
     "output_type": "execute_result"
    }
   ],
   "source": [
    "#number of unique values \n",
    "ratings_df.nunique()"
   ]
  },
  {
   "cell_type": "code",
   "execution_count": 31,
   "id": "b3d3edc7",
   "metadata": {},
   "outputs": [
    {
     "data": {
      "image/png": "[encoded data removed]",
      "text/plain": [
       "<Figure size 1080x504 with 1 Axes>"
      ]
     },
     "metadata": {
      "needs_background": "light"
     },
     "output_type": "display_data"
    }
   ],
   "source": [
    "#plotting the time type data\n",
    "plt.figure(figsize=(15, 7))\n",
    "sns.countplot(ratings_df['Book-Rating'])\n",
    "plt.title('Book Ratings and their value counts', size=16)\n",
    "plt.xlabel('Book Ratings', size=14)\n",
    "plt.ylabel('Count', size=14)\n",
    "plt.show()"
   ]
  },
  {
   "cell_type": "markdown",
   "id": "4244b292",
   "metadata": {},
   "source": [
    "# **User Ratings Dataset**"
   ]
  },
  {
   "cell_type": "code",
   "execution_count": 32,
   "id": "7bbdd502",
   "metadata": {},
   "outputs": [
    {
     "data": {
      "text/html": [
       "<div>\n",
       "<style scoped>\n",
       "    .dataframe tbody tr th:only-of-type {\n",
       "        vertical-align: middle;\n",
       "    }\n",
       "\n",
       "    .dataframe tbody tr th {\n",
       "        vertical-align: top;\n",
       "    }\n",
       "\n",
       "    .dataframe thead th {\n",
       "        text-align: right;\n",
       "    }\n",
       "</style>\n",
       "<table border=\"1\" class=\"dataframe\">\n",
       "  <thead>\n",
       "    <tr style=\"text-align: right;\">\n",
       "      <th></th>\n",
       "      <th>User-ID</th>\n",
       "      <th>ISBN</th>\n",
       "      <th>Book-Rating</th>\n",
       "      <th>Location</th>\n",
       "      <th>Age</th>\n",
       "    </tr>\n",
       "  </thead>\n",
       "  <tbody>\n",
       "    <tr>\n",
       "      <th>0</th>\n",
       "      <td>276725</td>\n",
       "      <td>034545104X</td>\n",
       "      <td>0</td>\n",
       "      <td>tyler, texas, usa</td>\n",
       "      <td>34.751434</td>\n",
       "    </tr>\n",
       "    <tr>\n",
       "      <th>1</th>\n",
       "      <td>276726</td>\n",
       "      <td>0155061224</td>\n",
       "      <td>5</td>\n",
       "      <td>seattle, washington, usa</td>\n",
       "      <td>34.751434</td>\n",
       "    </tr>\n",
       "    <tr>\n",
       "      <th>2</th>\n",
       "      <td>276727</td>\n",
       "      <td>0446520802</td>\n",
       "      <td>0</td>\n",
       "      <td>h, new south wales, australia</td>\n",
       "      <td>16.000000</td>\n",
       "    </tr>\n",
       "    <tr>\n",
       "      <th>3</th>\n",
       "      <td>276729</td>\n",
       "      <td>052165615X</td>\n",
       "      <td>3</td>\n",
       "      <td>rijeka, n/a, croatia</td>\n",
       "      <td>16.000000</td>\n",
       "    </tr>\n",
       "    <tr>\n",
       "      <th>4</th>\n",
       "      <td>276729</td>\n",
       "      <td>0521795028</td>\n",
       "      <td>6</td>\n",
       "      <td>rijeka, n/a, croatia</td>\n",
       "      <td>16.000000</td>\n",
       "    </tr>\n",
       "  </tbody>\n",
       "</table>\n",
       "</div>"
      ],
      "text/plain": [
       "   User-ID        ISBN  Book-Rating                       Location        Age\n",
       "0   276725  034545104X            0              tyler, texas, usa  34.751434\n",
       "1   276726  0155061224            5       seattle, washington, usa  34.751434\n",
       "2   276727  0446520802            0  h, new south wales, australia  16.000000\n",
       "3   276729  052165615X            3           rijeka, n/a, croatia  16.000000\n",
       "4   276729  0521795028            6           rijeka, n/a, croatia  16.000000"
      ]
     },
     "execution_count": 32,
     "metadata": {},
     "output_type": "execute_result"
    }
   ],
   "source": [
    "#combining the user and ratings datasets\n",
    "user_ratings_df = ratings_df.merge(user_df, left_on = 'User-ID', right_on = 'User-ID')\n",
    "#first  records of merged dataset\n",
    "user_ratings_df.head()"
   ]
  },
  {
   "cell_type": "code",
   "execution_count": 33,
   "id": "7880c799",
   "metadata": {},
   "outputs": [
    {
     "data": {
      "text/plain": [
       "User-ID        0\n",
       "ISBN           0\n",
       "Book-Rating    0\n",
       "Location       0\n",
       "Age            0\n",
       "dtype: int64"
      ]
     },
     "execution_count": 33,
     "metadata": {},
     "output_type": "execute_result"
    }
   ],
   "source": [
    "#checking for nan values\n",
    "user_ratings_df.isnull().sum()"
   ]
  },
  {
   "cell_type": "markdown",
   "id": "63a02f56",
   "metadata": {},
   "source": [
    "# **Book User Ratings Dataset**"
   ]
  },
  {
   "cell_type": "code",
   "execution_count": 34,
   "id": "e17efc37",
   "metadata": {},
   "outputs": [
    {
     "data": {
      "text/html": [
       "<div>\n",
       "<style scoped>\n",
       "    .dataframe tbody tr th:only-of-type {\n",
       "        vertical-align: middle;\n",
       "    }\n",
       "\n",
       "    .dataframe tbody tr th {\n",
       "        vertical-align: top;\n",
       "    }\n",
       "\n",
       "    .dataframe thead th {\n",
       "        text-align: right;\n",
       "    }\n",
       "</style>\n",
       "<table border=\"1\" class=\"dataframe\">\n",
       "  <thead>\n",
       "    <tr style=\"text-align: right;\">\n",
       "      <th></th>\n",
       "      <th>User-ID</th>\n",
       "      <th>ISBN</th>\n",
       "      <th>Book-Rating</th>\n",
       "      <th>Location</th>\n",
       "      <th>Age</th>\n",
       "      <th>Book-Title</th>\n",
       "      <th>Book-Author</th>\n",
       "      <th>Year-Of-Publication</th>\n",
       "      <th>Publisher</th>\n",
       "    </tr>\n",
       "  </thead>\n",
       "  <tbody>\n",
       "    <tr>\n",
       "      <th>0</th>\n",
       "      <td>276725</td>\n",
       "      <td>034545104X</td>\n",
       "      <td>0</td>\n",
       "      <td>tyler, texas, usa</td>\n",
       "      <td>34.751434</td>\n",
       "      <td>Flesh Tones: A Novel</td>\n",
       "      <td>M. J. Rose</td>\n",
       "      <td>2002</td>\n",
       "      <td>Ballantine Books</td>\n",
       "    </tr>\n",
       "    <tr>\n",
       "      <th>1</th>\n",
       "      <td>2313</td>\n",
       "      <td>034545104X</td>\n",
       "      <td>5</td>\n",
       "      <td>cincinnati, ohio, usa</td>\n",
       "      <td>23.000000</td>\n",
       "      <td>Flesh Tones: A Novel</td>\n",
       "      <td>M. J. Rose</td>\n",
       "      <td>2002</td>\n",
       "      <td>Ballantine Books</td>\n",
       "    </tr>\n",
       "    <tr>\n",
       "      <th>2</th>\n",
       "      <td>6543</td>\n",
       "      <td>034545104X</td>\n",
       "      <td>0</td>\n",
       "      <td>strafford, missouri, usa</td>\n",
       "      <td>34.000000</td>\n",
       "      <td>Flesh Tones: A Novel</td>\n",
       "      <td>M. J. Rose</td>\n",
       "      <td>2002</td>\n",
       "      <td>Ballantine Books</td>\n",
       "    </tr>\n",
       "    <tr>\n",
       "      <th>3</th>\n",
       "      <td>8680</td>\n",
       "      <td>034545104X</td>\n",
       "      <td>5</td>\n",
       "      <td>st. charles county, missouri, usa</td>\n",
       "      <td>2.000000</td>\n",
       "      <td>Flesh Tones: A Novel</td>\n",
       "      <td>M. J. Rose</td>\n",
       "      <td>2002</td>\n",
       "      <td>Ballantine Books</td>\n",
       "    </tr>\n",
       "    <tr>\n",
       "      <th>4</th>\n",
       "      <td>10314</td>\n",
       "      <td>034545104X</td>\n",
       "      <td>9</td>\n",
       "      <td>beaverton, oregon, usa</td>\n",
       "      <td>34.751434</td>\n",
       "      <td>Flesh Tones: A Novel</td>\n",
       "      <td>M. J. Rose</td>\n",
       "      <td>2002</td>\n",
       "      <td>Ballantine Books</td>\n",
       "    </tr>\n",
       "  </tbody>\n",
       "</table>\n",
       "</div>"
      ],
      "text/plain": [
       "   User-ID        ISBN  Book-Rating                           Location  \\\n",
       "0   276725  034545104X            0                  tyler, texas, usa   \n",
       "1     2313  034545104X            5              cincinnati, ohio, usa   \n",
       "2     6543  034545104X            0           strafford, missouri, usa   \n",
       "3     8680  034545104X            5  st. charles county, missouri, usa   \n",
       "4    10314  034545104X            9             beaverton, oregon, usa   \n",
       "\n",
       "         Age            Book-Title Book-Author  Year-Of-Publication  \\\n",
       "0  34.751434  Flesh Tones: A Novel  M. J. Rose                 2002   \n",
       "1  23.000000  Flesh Tones: A Novel  M. J. Rose                 2002   \n",
       "2  34.000000  Flesh Tones: A Novel  M. J. Rose                 2002   \n",
       "3   2.000000  Flesh Tones: A Novel  M. J. Rose                 2002   \n",
       "4  34.751434  Flesh Tones: A Novel  M. J. Rose                 2002   \n",
       "\n",
       "          Publisher  \n",
       "0  Ballantine Books  \n",
       "1  Ballantine Books  \n",
       "2  Ballantine Books  \n",
       "3  Ballantine Books  \n",
       "4  Ballantine Books  "
      ]
     },
     "execution_count": 34,
     "metadata": {},
     "output_type": "execute_result"
    }
   ],
   "source": [
    "#combining the user and ratings datasets\n",
    "data = user_ratings_df.merge(book_df, left_on = 'ISBN', right_on = 'ISBN')\n",
    "#first  records of merged dataset\n",
    "data.head()"
   ]
  },
  {
   "cell_type": "code",
   "execution_count": 35,
   "id": "03d88395",
   "metadata": {},
   "outputs": [
    {
     "data": {
      "text/html": [
       "<div>\n",
       "<style scoped>\n",
       "    .dataframe tbody tr th:only-of-type {\n",
       "        vertical-align: middle;\n",
       "    }\n",
       "\n",
       "    .dataframe tbody tr th {\n",
       "        vertical-align: top;\n",
       "    }\n",
       "\n",
       "    .dataframe thead th {\n",
       "        text-align: right;\n",
       "    }\n",
       "</style>\n",
       "<table border=\"1\" class=\"dataframe\">\n",
       "  <thead>\n",
       "    <tr style=\"text-align: right;\">\n",
       "      <th></th>\n",
       "      <th>ISBN</th>\n",
       "      <th>Book-Title</th>\n",
       "      <th>Book-Author</th>\n",
       "      <th>User-ID</th>\n",
       "      <th>Book-Rating</th>\n",
       "    </tr>\n",
       "  </thead>\n",
       "  <tbody>\n",
       "    <tr>\n",
       "      <th>0</th>\n",
       "      <td>034545104X</td>\n",
       "      <td>Flesh Tones: A Novel</td>\n",
       "      <td>M. J. Rose</td>\n",
       "      <td>276725</td>\n",
       "      <td>0</td>\n",
       "    </tr>\n",
       "    <tr>\n",
       "      <th>1</th>\n",
       "      <td>034545104X</td>\n",
       "      <td>Flesh Tones: A Novel</td>\n",
       "      <td>M. J. Rose</td>\n",
       "      <td>2313</td>\n",
       "      <td>5</td>\n",
       "    </tr>\n",
       "    <tr>\n",
       "      <th>2</th>\n",
       "      <td>034545104X</td>\n",
       "      <td>Flesh Tones: A Novel</td>\n",
       "      <td>M. J. Rose</td>\n",
       "      <td>6543</td>\n",
       "      <td>0</td>\n",
       "    </tr>\n",
       "    <tr>\n",
       "      <th>3</th>\n",
       "      <td>034545104X</td>\n",
       "      <td>Flesh Tones: A Novel</td>\n",
       "      <td>M. J. Rose</td>\n",
       "      <td>8680</td>\n",
       "      <td>5</td>\n",
       "    </tr>\n",
       "    <tr>\n",
       "      <th>4</th>\n",
       "      <td>034545104X</td>\n",
       "      <td>Flesh Tones: A Novel</td>\n",
       "      <td>M. J. Rose</td>\n",
       "      <td>10314</td>\n",
       "      <td>9</td>\n",
       "    </tr>\n",
       "  </tbody>\n",
       "</table>\n",
       "</div>"
      ],
      "text/plain": [
       "         ISBN            Book-Title Book-Author  User-ID  Book-Rating\n",
       "0  034545104X  Flesh Tones: A Novel  M. J. Rose   276725            0\n",
       "1  034545104X  Flesh Tones: A Novel  M. J. Rose     2313            5\n",
       "2  034545104X  Flesh Tones: A Novel  M. J. Rose     6543            0\n",
       "3  034545104X  Flesh Tones: A Novel  M. J. Rose     8680            5\n",
       "4  034545104X  Flesh Tones: A Novel  M. J. Rose    10314            9"
      ]
     },
     "execution_count": 35,
     "metadata": {},
     "output_type": "execute_result"
    }
   ],
   "source": [
    "data = data[['ISBN', 'Book-Title', 'Book-Author', 'User-ID', 'Book-Rating']]\n",
    "data.reset_index(drop=True, inplace=True)\n",
    "data = data.iloc[:100000, :]\n",
    "data.head()"
   ]
  },
  {
   "cell_type": "markdown",
   "id": "99465821",
   "metadata": {},
   "source": [
    "# **Recommendation Model**"
   ]
  },
  {
   "cell_type": "code",
   "execution_count": 36,
   "id": "e21a9719",
   "metadata": {},
   "outputs": [
    {
     "data": {
      "text/html": [
       "<div>\n",
       "<style scoped>\n",
       "    .dataframe tbody tr th:only-of-type {\n",
       "        vertical-align: middle;\n",
       "    }\n",
       "\n",
       "    .dataframe tbody tr th {\n",
       "        vertical-align: top;\n",
       "    }\n",
       "\n",
       "    .dataframe thead th {\n",
       "        text-align: right;\n",
       "    }\n",
       "</style>\n",
       "<table border=\"1\" class=\"dataframe\">\n",
       "  <thead>\n",
       "    <tr style=\"text-align: right;\">\n",
       "      <th>Book-Title</th>\n",
       "      <th>007 El Mundo Nunca Es Suficiente</th>\n",
       "      <th>01-01-00: The Novel of the Millennium</th>\n",
       "      <th>101 Dalmatians</th>\n",
       "      <th>101 Experiments in the Philosophy of Everyday Life</th>\n",
       "      <th>101 Great Resumes</th>\n",
       "      <th>1421 : The Year China Discovered America</th>\n",
       "      <th>1st to Die: A Novel</th>\n",
       "      <th>21 Dog Years : Doing Time @ Amazon.com</th>\n",
       "      <th>24 Hours</th>\n",
       "      <th>28 Barbary Lane : A \\Tales of the City\\\" Omnibus\"</th>\n",
       "      <th>...</th>\n",
       "      <th>You're Not Elected, Charlie Brown</th>\n",
       "      <th>Your Finances in Changing Times (The Christian Financial Concepts Series)</th>\n",
       "      <th>Your Life in Your Hands: Understanding, Preventing and Overcoming Breast Cancer</th>\n",
       "      <th>Your Personal Trainer</th>\n",
       "      <th>Your Second Child</th>\n",
       "      <th>Zen Essence : The Science of Freedom (Shambhala Pocket Classics)</th>\n",
       "      <th>Zentak, tome 1 : La Passe des Argonautes</th>\n",
       "      <th>Zuiderkruis: Roman</th>\n",
       "      <th>\\ Lamb to the Slaughter and Other Stories (Penguin 60s S.)\"</th>\n",
       "      <th>Â¡No bajes al sÃ³tano! (EscalofrÃ­os No. 2)</th>\n",
       "    </tr>\n",
       "    <tr>\n",
       "      <th>User-ID</th>\n",
       "      <th></th>\n",
       "      <th></th>\n",
       "      <th></th>\n",
       "      <th></th>\n",
       "      <th></th>\n",
       "      <th></th>\n",
       "      <th></th>\n",
       "      <th></th>\n",
       "      <th></th>\n",
       "      <th></th>\n",
       "      <th></th>\n",
       "      <th></th>\n",
       "      <th></th>\n",
       "      <th></th>\n",
       "      <th></th>\n",
       "      <th></th>\n",
       "      <th></th>\n",
       "      <th></th>\n",
       "      <th></th>\n",
       "      <th></th>\n",
       "      <th></th>\n",
       "    </tr>\n",
       "  </thead>\n",
       "  <tbody>\n",
       "    <tr>\n",
       "      <th>9</th>\n",
       "      <td>NaN</td>\n",
       "      <td>NaN</td>\n",
       "      <td>NaN</td>\n",
       "      <td>NaN</td>\n",
       "      <td>NaN</td>\n",
       "      <td>NaN</td>\n",
       "      <td>NaN</td>\n",
       "      <td>NaN</td>\n",
       "      <td>NaN</td>\n",
       "      <td>NaN</td>\n",
       "      <td>...</td>\n",
       "      <td>NaN</td>\n",
       "      <td>NaN</td>\n",
       "      <td>NaN</td>\n",
       "      <td>NaN</td>\n",
       "      <td>NaN</td>\n",
       "      <td>NaN</td>\n",
       "      <td>NaN</td>\n",
       "      <td>NaN</td>\n",
       "      <td>NaN</td>\n",
       "      <td>NaN</td>\n",
       "    </tr>\n",
       "    <tr>\n",
       "      <th>14</th>\n",
       "      <td>NaN</td>\n",
       "      <td>NaN</td>\n",
       "      <td>NaN</td>\n",
       "      <td>NaN</td>\n",
       "      <td>NaN</td>\n",
       "      <td>NaN</td>\n",
       "      <td>NaN</td>\n",
       "      <td>NaN</td>\n",
       "      <td>NaN</td>\n",
       "      <td>NaN</td>\n",
       "      <td>...</td>\n",
       "      <td>NaN</td>\n",
       "      <td>NaN</td>\n",
       "      <td>NaN</td>\n",
       "      <td>NaN</td>\n",
       "      <td>NaN</td>\n",
       "      <td>NaN</td>\n",
       "      <td>NaN</td>\n",
       "      <td>NaN</td>\n",
       "      <td>NaN</td>\n",
       "      <td>NaN</td>\n",
       "    </tr>\n",
       "    <tr>\n",
       "      <th>23</th>\n",
       "      <td>NaN</td>\n",
       "      <td>NaN</td>\n",
       "      <td>NaN</td>\n",
       "      <td>NaN</td>\n",
       "      <td>NaN</td>\n",
       "      <td>NaN</td>\n",
       "      <td>NaN</td>\n",
       "      <td>NaN</td>\n",
       "      <td>NaN</td>\n",
       "      <td>NaN</td>\n",
       "      <td>...</td>\n",
       "      <td>NaN</td>\n",
       "      <td>NaN</td>\n",
       "      <td>NaN</td>\n",
       "      <td>NaN</td>\n",
       "      <td>NaN</td>\n",
       "      <td>NaN</td>\n",
       "      <td>NaN</td>\n",
       "      <td>NaN</td>\n",
       "      <td>NaN</td>\n",
       "      <td>NaN</td>\n",
       "    </tr>\n",
       "    <tr>\n",
       "      <th>26</th>\n",
       "      <td>NaN</td>\n",
       "      <td>NaN</td>\n",
       "      <td>NaN</td>\n",
       "      <td>NaN</td>\n",
       "      <td>NaN</td>\n",
       "      <td>NaN</td>\n",
       "      <td>NaN</td>\n",
       "      <td>NaN</td>\n",
       "      <td>NaN</td>\n",
       "      <td>NaN</td>\n",
       "      <td>...</td>\n",
       "      <td>NaN</td>\n",
       "      <td>NaN</td>\n",
       "      <td>NaN</td>\n",
       "      <td>NaN</td>\n",
       "      <td>NaN</td>\n",
       "      <td>NaN</td>\n",
       "      <td>NaN</td>\n",
       "      <td>NaN</td>\n",
       "      <td>NaN</td>\n",
       "      <td>NaN</td>\n",
       "    </tr>\n",
       "    <tr>\n",
       "      <th>39</th>\n",
       "      <td>NaN</td>\n",
       "      <td>NaN</td>\n",
       "      <td>NaN</td>\n",
       "      <td>NaN</td>\n",
       "      <td>NaN</td>\n",
       "      <td>NaN</td>\n",
       "      <td>NaN</td>\n",
       "      <td>NaN</td>\n",
       "      <td>NaN</td>\n",
       "      <td>NaN</td>\n",
       "      <td>...</td>\n",
       "      <td>NaN</td>\n",
       "      <td>NaN</td>\n",
       "      <td>NaN</td>\n",
       "      <td>NaN</td>\n",
       "      <td>NaN</td>\n",
       "      <td>NaN</td>\n",
       "      <td>NaN</td>\n",
       "      <td>NaN</td>\n",
       "      <td>NaN</td>\n",
       "      <td>NaN</td>\n",
       "    </tr>\n",
       "    <tr>\n",
       "      <th>...</th>\n",
       "      <td>...</td>\n",
       "      <td>...</td>\n",
       "      <td>...</td>\n",
       "      <td>...</td>\n",
       "      <td>...</td>\n",
       "      <td>...</td>\n",
       "      <td>...</td>\n",
       "      <td>...</td>\n",
       "      <td>...</td>\n",
       "      <td>...</td>\n",
       "      <td>...</td>\n",
       "      <td>...</td>\n",
       "      <td>...</td>\n",
       "      <td>...</td>\n",
       "      <td>...</td>\n",
       "      <td>...</td>\n",
       "      <td>...</td>\n",
       "      <td>...</td>\n",
       "      <td>...</td>\n",
       "      <td>...</td>\n",
       "      <td>...</td>\n",
       "    </tr>\n",
       "    <tr>\n",
       "      <th>278819</th>\n",
       "      <td>NaN</td>\n",
       "      <td>NaN</td>\n",
       "      <td>NaN</td>\n",
       "      <td>NaN</td>\n",
       "      <td>NaN</td>\n",
       "      <td>NaN</td>\n",
       "      <td>NaN</td>\n",
       "      <td>NaN</td>\n",
       "      <td>NaN</td>\n",
       "      <td>NaN</td>\n",
       "      <td>...</td>\n",
       "      <td>NaN</td>\n",
       "      <td>NaN</td>\n",
       "      <td>NaN</td>\n",
       "      <td>NaN</td>\n",
       "      <td>NaN</td>\n",
       "      <td>NaN</td>\n",
       "      <td>NaN</td>\n",
       "      <td>NaN</td>\n",
       "      <td>NaN</td>\n",
       "      <td>NaN</td>\n",
       "    </tr>\n",
       "    <tr>\n",
       "      <th>278825</th>\n",
       "      <td>NaN</td>\n",
       "      <td>NaN</td>\n",
       "      <td>NaN</td>\n",
       "      <td>NaN</td>\n",
       "      <td>NaN</td>\n",
       "      <td>NaN</td>\n",
       "      <td>NaN</td>\n",
       "      <td>NaN</td>\n",
       "      <td>NaN</td>\n",
       "      <td>NaN</td>\n",
       "      <td>...</td>\n",
       "      <td>NaN</td>\n",
       "      <td>NaN</td>\n",
       "      <td>NaN</td>\n",
       "      <td>NaN</td>\n",
       "      <td>NaN</td>\n",
       "      <td>NaN</td>\n",
       "      <td>NaN</td>\n",
       "      <td>NaN</td>\n",
       "      <td>NaN</td>\n",
       "      <td>NaN</td>\n",
       "    </tr>\n",
       "    <tr>\n",
       "      <th>278832</th>\n",
       "      <td>NaN</td>\n",
       "      <td>NaN</td>\n",
       "      <td>NaN</td>\n",
       "      <td>NaN</td>\n",
       "      <td>NaN</td>\n",
       "      <td>NaN</td>\n",
       "      <td>NaN</td>\n",
       "      <td>NaN</td>\n",
       "      <td>NaN</td>\n",
       "      <td>NaN</td>\n",
       "      <td>...</td>\n",
       "      <td>NaN</td>\n",
       "      <td>NaN</td>\n",
       "      <td>NaN</td>\n",
       "      <td>NaN</td>\n",
       "      <td>NaN</td>\n",
       "      <td>NaN</td>\n",
       "      <td>NaN</td>\n",
       "      <td>NaN</td>\n",
       "      <td>NaN</td>\n",
       "      <td>NaN</td>\n",
       "    </tr>\n",
       "    <tr>\n",
       "      <th>278843</th>\n",
       "      <td>NaN</td>\n",
       "      <td>NaN</td>\n",
       "      <td>NaN</td>\n",
       "      <td>NaN</td>\n",
       "      <td>NaN</td>\n",
       "      <td>NaN</td>\n",
       "      <td>NaN</td>\n",
       "      <td>NaN</td>\n",
       "      <td>NaN</td>\n",
       "      <td>NaN</td>\n",
       "      <td>...</td>\n",
       "      <td>NaN</td>\n",
       "      <td>NaN</td>\n",
       "      <td>NaN</td>\n",
       "      <td>NaN</td>\n",
       "      <td>NaN</td>\n",
       "      <td>NaN</td>\n",
       "      <td>NaN</td>\n",
       "      <td>NaN</td>\n",
       "      <td>NaN</td>\n",
       "      <td>NaN</td>\n",
       "    </tr>\n",
       "    <tr>\n",
       "      <th>278854</th>\n",
       "      <td>NaN</td>\n",
       "      <td>NaN</td>\n",
       "      <td>NaN</td>\n",
       "      <td>NaN</td>\n",
       "      <td>NaN</td>\n",
       "      <td>NaN</td>\n",
       "      <td>NaN</td>\n",
       "      <td>NaN</td>\n",
       "      <td>NaN</td>\n",
       "      <td>NaN</td>\n",
       "      <td>...</td>\n",
       "      <td>NaN</td>\n",
       "      <td>NaN</td>\n",
       "      <td>NaN</td>\n",
       "      <td>NaN</td>\n",
       "      <td>NaN</td>\n",
       "      <td>NaN</td>\n",
       "      <td>NaN</td>\n",
       "      <td>NaN</td>\n",
       "      <td>NaN</td>\n",
       "      <td>NaN</td>\n",
       "    </tr>\n",
       "  </tbody>\n",
       "</table>\n",
       "<p>27324 rows × 2530 columns</p>\n",
       "</div>"
      ],
      "text/plain": [
       "Book-Title  007 El Mundo Nunca Es Suficiente  \\\n",
       "User-ID                                        \n",
       "9                                        NaN   \n",
       "14                                       NaN   \n",
       "23                                       NaN   \n",
       "26                                       NaN   \n",
       "39                                       NaN   \n",
       "...                                      ...   \n",
       "278819                                   NaN   \n",
       "278825                                   NaN   \n",
       "278832                                   NaN   \n",
       "278843                                   NaN   \n",
       "278854                                   NaN   \n",
       "\n",
       "Book-Title  01-01-00: The Novel of the Millennium  101 Dalmatians  \\\n",
       "User-ID                                                             \n",
       "9                                             NaN             NaN   \n",
       "14                                            NaN             NaN   \n",
       "23                                            NaN             NaN   \n",
       "26                                            NaN             NaN   \n",
       "39                                            NaN             NaN   \n",
       "...                                           ...             ...   \n",
       "278819                                        NaN             NaN   \n",
       "278825                                        NaN             NaN   \n",
       "278832                                        NaN             NaN   \n",
       "278843                                        NaN             NaN   \n",
       "278854                                        NaN             NaN   \n",
       "\n",
       "Book-Title  101 Experiments in the Philosophy of Everyday Life  \\\n",
       "User-ID                                                          \n",
       "9                                                         NaN    \n",
       "14                                                        NaN    \n",
       "23                                                        NaN    \n",
       "26                                                        NaN    \n",
       "39                                                        NaN    \n",
       "...                                                       ...    \n",
       "278819                                                    NaN    \n",
       "278825                                                    NaN    \n",
       "278832                                                    NaN    \n",
       "278843                                                    NaN    \n",
       "278854                                                    NaN    \n",
       "\n",
       "Book-Title  101 Great Resumes  1421 : The Year China Discovered America  \\\n",
       "User-ID                                                                   \n",
       "9                         NaN                                       NaN   \n",
       "14                        NaN                                       NaN   \n",
       "23                        NaN                                       NaN   \n",
       "26                        NaN                                       NaN   \n",
       "39                        NaN                                       NaN   \n",
       "...                       ...                                       ...   \n",
       "278819                    NaN                                       NaN   \n",
       "278825                    NaN                                       NaN   \n",
       "278832                    NaN                                       NaN   \n",
       "278843                    NaN                                       NaN   \n",
       "278854                    NaN                                       NaN   \n",
       "\n",
       "Book-Title  1st to Die: A Novel  21 Dog Years : Doing Time @ Amazon.com  \\\n",
       "User-ID                                                                   \n",
       "9                           NaN                                     NaN   \n",
       "14                          NaN                                     NaN   \n",
       "23                          NaN                                     NaN   \n",
       "26                          NaN                                     NaN   \n",
       "39                          NaN                                     NaN   \n",
       "...                         ...                                     ...   \n",
       "278819                      NaN                                     NaN   \n",
       "278825                      NaN                                     NaN   \n",
       "278832                      NaN                                     NaN   \n",
       "278843                      NaN                                     NaN   \n",
       "278854                      NaN                                     NaN   \n",
       "\n",
       "Book-Title  24 Hours  28 Barbary Lane : A \\Tales of the City\\\" Omnibus\"  ...  \\\n",
       "User-ID                                                                  ...   \n",
       "9                NaN                                                NaN  ...   \n",
       "14               NaN                                                NaN  ...   \n",
       "23               NaN                                                NaN  ...   \n",
       "26               NaN                                                NaN  ...   \n",
       "39               NaN                                                NaN  ...   \n",
       "...              ...                                                ...  ...   \n",
       "278819           NaN                                                NaN  ...   \n",
       "278825           NaN                                                NaN  ...   \n",
       "278832           NaN                                                NaN  ...   \n",
       "278843           NaN                                                NaN  ...   \n",
       "278854           NaN                                                NaN  ...   \n",
       "\n",
       "Book-Title  You're Not Elected, Charlie Brown  \\\n",
       "User-ID                                         \n",
       "9                                         NaN   \n",
       "14                                        NaN   \n",
       "23                                        NaN   \n",
       "26                                        NaN   \n",
       "39                                        NaN   \n",
       "...                                       ...   \n",
       "278819                                    NaN   \n",
       "278825                                    NaN   \n",
       "278832                                    NaN   \n",
       "278843                                    NaN   \n",
       "278854                                    NaN   \n",
       "\n",
       "Book-Title  Your Finances in Changing Times (The Christian Financial Concepts Series)  \\\n",
       "User-ID                                                                                 \n",
       "9                                                         NaN                           \n",
       "14                                                        NaN                           \n",
       "23                                                        NaN                           \n",
       "26                                                        NaN                           \n",
       "39                                                        NaN                           \n",
       "...                                                       ...                           \n",
       "278819                                                    NaN                           \n",
       "278825                                                    NaN                           \n",
       "278832                                                    NaN                           \n",
       "278843                                                    NaN                           \n",
       "278854                                                    NaN                           \n",
       "\n",
       "Book-Title  Your Life in Your Hands: Understanding, Preventing and Overcoming Breast Cancer  \\\n",
       "User-ID                                                                                       \n",
       "9                                                         NaN                                 \n",
       "14                                                        NaN                                 \n",
       "23                                                        NaN                                 \n",
       "26                                                        NaN                                 \n",
       "39                                                        NaN                                 \n",
       "...                                                       ...                                 \n",
       "278819                                                    NaN                                 \n",
       "278825                                                    NaN                                 \n",
       "278832                                                    NaN                                 \n",
       "278843                                                    NaN                                 \n",
       "278854                                                    NaN                                 \n",
       "\n",
       "Book-Title  Your Personal Trainer  Your Second Child  \\\n",
       "User-ID                                                \n",
       "9                             NaN                NaN   \n",
       "14                            NaN                NaN   \n",
       "23                            NaN                NaN   \n",
       "26                            NaN                NaN   \n",
       "39                            NaN                NaN   \n",
       "...                           ...                ...   \n",
       "278819                        NaN                NaN   \n",
       "278825                        NaN                NaN   \n",
       "278832                        NaN                NaN   \n",
       "278843                        NaN                NaN   \n",
       "278854                        NaN                NaN   \n",
       "\n",
       "Book-Title  Zen Essence : The Science of Freedom (Shambhala Pocket Classics)  \\\n",
       "User-ID                                                                        \n",
       "9                                                         NaN                  \n",
       "14                                                        NaN                  \n",
       "23                                                        NaN                  \n",
       "26                                                        NaN                  \n",
       "39                                                        NaN                  \n",
       "...                                                       ...                  \n",
       "278819                                                    NaN                  \n",
       "278825                                                    NaN                  \n",
       "278832                                                    NaN                  \n",
       "278843                                                    NaN                  \n",
       "278854                                                    NaN                  \n",
       "\n",
       "Book-Title  Zentak, tome 1 : La Passe des Argonautes  Zuiderkruis: Roman  \\\n",
       "User-ID                                                                    \n",
       "9                                                NaN                 NaN   \n",
       "14                                               NaN                 NaN   \n",
       "23                                               NaN                 NaN   \n",
       "26                                               NaN                 NaN   \n",
       "39                                               NaN                 NaN   \n",
       "...                                              ...                 ...   \n",
       "278819                                           NaN                 NaN   \n",
       "278825                                           NaN                 NaN   \n",
       "278832                                           NaN                 NaN   \n",
       "278843                                           NaN                 NaN   \n",
       "278854                                           NaN                 NaN   \n",
       "\n",
       "Book-Title  \\ Lamb to the Slaughter and Other Stories (Penguin 60s S.)\"  \\\n",
       "User-ID                                                                   \n",
       "9                                                         NaN             \n",
       "14                                                        NaN             \n",
       "23                                                        NaN             \n",
       "26                                                        NaN             \n",
       "39                                                        NaN             \n",
       "...                                                       ...             \n",
       "278819                                                    NaN             \n",
       "278825                                                    NaN             \n",
       "278832                                                    NaN             \n",
       "278843                                                    NaN             \n",
       "278854                                                    NaN             \n",
       "\n",
       "Book-Title  Â¡No bajes al sÃ³tano! (EscalofrÃ­os No. 2)  \n",
       "User-ID                                                  \n",
       "9                                                   NaN  \n",
       "14                                                  NaN  \n",
       "23                                                  NaN  \n",
       "26                                                  NaN  \n",
       "39                                                  NaN  \n",
       "...                                                 ...  \n",
       "278819                                              NaN  \n",
       "278825                                              NaN  \n",
       "278832                                              NaN  \n",
       "278843                                              NaN  \n",
       "278854                                              NaN  \n",
       "\n",
       "[27324 rows x 2530 columns]"
      ]
     },
     "execution_count": 36,
     "metadata": {},
     "output_type": "execute_result"
    }
   ],
   "source": [
    "book_rec = data.pivot_table(index='User-ID', columns='Book-Title', values='Book-Rating')\n",
    "book_rec"
   ]
  }
 ],
 "metadata": {
  "kernelspec": {
   "display_name": "Python 3",
   "language": "python",
   "name": "python3"
  },
  "language_info": {
   "codemirror_mode": {
    "name": "ipython",
    "version": 3
   },
   "file_extension": ".py",
   "mimetype": "text/x-python",
   "name": "python",
   "nbconvert_exporter": "python",
   "pygments_lexer": "ipython3",
   "version": "3.8.8"
  }
 },
 "nbformat": 4,
 "nbformat_minor": 5
}
